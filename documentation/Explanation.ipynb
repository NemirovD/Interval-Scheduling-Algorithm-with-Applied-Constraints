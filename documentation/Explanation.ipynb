{
 "cells": [
  {
   "cell_type": "markdown",
   "metadata": {},
   "source": [
    "# Interval Scheduling Algorithm With Applied Constraints (ISAAC)\n",
    "\n",
    "##Overview\n",
    "\n",
    "Upon acceptance into university, first year students are expected to create their own timetable based on the courses required for their program. For a typical student, this is an extremely overwhelming process, leading to confusion and frustration.  Many students eventually abandon the process, opting for a less-than-ideal schedule, rather than to continue with the stressful task.\n",
    "\n",
    "The origin of the stress is the huge number of options that a student faces.  The Fall 2015 Physics 1 course, for example, is comprised of 4 lecture sections, 28 tutorial sections and 42 laboratory sections.  Each student wishing to take this course must select one of each type of section.  There are 4704 combinations.\n",
    "\n",
    "Of course, a student does not just take a single physics course, so the number of possible combinations becomes outrageously high very quickly.  Couple the sheer number of combinations with the fact that many are impossible because of timing conflicts and a week 1/week 2 scheduling pattern and it's easy to see why students concede quickly in the search for a decent schedule.\n"
   ]
  },
  {
   "cell_type": "markdown",
   "metadata": {},
   "source": [
    "###Some numbers for motivation\n",
    "\n",
    "A student must take one of each type of section (lab, lecture, tutorial, etc.) for each of $N$ courses in which they wish to enroll.  If $N$ courses each have $T$ distinct section types, and each type has $S$ unique sections, the total number of possible combinations is given by the double product\n",
    "\n",
    "\\begin{equation}\n",
    "C = \\prod\\limits_{n}^{N}\\prod\\limits_{t}^{T_n} S_t .\n",
    "\\end{equation}\n",
    "\n",
    "\n",
    "\n",
    "A first year science student must take Biology I, Chemistry I, Physics I, Intro to Computer Science and Calculus I.  Querying our database of courses to find the number of sections for each of these courses:\n",
    "\n",
    "```SQL\n",
    "select count(*),code,type from sectiondb where semester='201509' and code in ('PHY1010U','BIOL1010U','CHEM1010U','CSCI1030U','MATH1010U') GROUP BY code,type;\n",
    "```\n",
    "\n",
    "\n",
    "\n",
    "```\n",
    "+----------+-----------+------+\n",
    "| count(*) | code      | type |\n",
    "+----------+-----------+------+\n",
    "|       24 | BIOL1010U | Lab  |\n",
    "|        3 | BIOL1010U | Lec  |\n",
    "|       22 | CHEM1010U | Lab  |\n",
    "|        3 | CHEM1010U | Lec  |\n",
    "|       16 | CHEM1010U | Tut  |\n",
    "|        3 | CSCI1030U | Lab  |\n",
    "|        1 | CSCI1030U | Lec  |\n",
    "|        4 | MATH1010U | Lec  |\n",
    "|       28 | MATH1010U | Tut  |\n",
    "|       42 | PHY1010U  | Lab  |\n",
    "|        4 | PHY1010U  | Lec  |\n",
    "|       28 | PHY1010U  | Tut  |\n",
    "+----------+-----------+------+\n",
    "\n",
    "```\n",
    "\n",
    "\n",
    "we see that the number of possibilities for a real-life situation is:\n",
    "\n",
    "\\begin{equation}\n",
    "C = (24 \\times 3) \\times (22\\times 3\\times 16) \\times  (3\\times 1) \\times  (4\\times 28) \\times  (42\\times 4\\times 28) = 120171921408 .\n",
    "\\end{equation}\n",
    "\n",
    "This is over **120 _billion_** possible timetables.  Of course, many of these are invalid and can be eliminated because they are comprised of sections with conflicting times, but timing is just another layer of complexity that the incoming freshman must consider.\n",
    "\n",
    "The number of _valid_ timetables, taking into consideration time overlap, numbers at least 930000$^\\dagger$.\n",
    "\n",
    "\n",
    "\n",
    "$^\\dagger$ We generated 10 million random schedules, which included 933209 unique, valid schedules, thus this is a lower limit of the number of possible schedules."
   ]
  },
  {
   "cell_type": "code",
   "execution_count": 1,
   "metadata": {
    "collapsed": false
   },
   "outputs": [
    {
     "ename": "NameError",
     "evalue": "name 'list_of_files' is not defined",
     "output_type": "error",
     "traceback": [
      "\u001b[1;31m---------------------------------------------------------------------------\u001b[0m",
      "\u001b[1;31mNameError\u001b[0m                                 Traceback (most recent call last)",
      "\u001b[1;32m<ipython-input-1-f5d95f3fdbe1>\u001b[0m in \u001b[0;36m<module>\u001b[1;34m()\u001b[0m\n\u001b[0;32m      1\u001b[0m \u001b[1;32mimport\u001b[0m \u001b[0mpylab\u001b[0m\u001b[1;33m\u001b[0m\u001b[0m\n\u001b[0;32m      2\u001b[0m \u001b[1;33m\u001b[0m\u001b[0m\n\u001b[1;32m----> 3\u001b[1;33m \u001b[0mdatalist\u001b[0m \u001b[1;33m=\u001b[0m \u001b[1;33m[\u001b[0m \u001b[1;33m(\u001b[0m \u001b[0mpylab\u001b[0m\u001b[1;33m.\u001b[0m\u001b[0mloadtxt\u001b[0m\u001b[1;33m(\u001b[0m\u001b[0mfilename\u001b[0m\u001b[1;33m)\u001b[0m\u001b[1;33m,\u001b[0m \u001b[0mlabel\u001b[0m \u001b[1;33m)\u001b[0m \u001b[1;32mfor\u001b[0m \u001b[0mfilename\u001b[0m\u001b[1;33m,\u001b[0m \u001b[0mlabel\u001b[0m \u001b[1;32min\u001b[0m \u001b[0mlist_of_files\u001b[0m \u001b[1;33m]\u001b[0m\u001b[1;33m\u001b[0m\u001b[0m\n\u001b[0m\u001b[0;32m      4\u001b[0m \u001b[1;33m\u001b[0m\u001b[0m\n\u001b[0;32m      5\u001b[0m \u001b[1;32mfor\u001b[0m \u001b[0mdata\u001b[0m\u001b[1;33m,\u001b[0m \u001b[0mlabel\u001b[0m \u001b[1;32min\u001b[0m \u001b[0mdatalist\u001b[0m\u001b[1;33m:\u001b[0m\u001b[1;33m\u001b[0m\u001b[0m\n",
      "\u001b[1;31mNameError\u001b[0m: name 'list_of_files' is not defined"
     ]
    }
   ],
   "source": [
    "import pylab\n",
    "\n",
    "\n",
    "\n",
    "datalist = [ ( pylab.loadtxt(filename), label ) for filename, label in list_of_files ]\n",
    "\n",
    "for data, label in datalist:\n",
    "    pylab.plot( data[:,0], data[:,1], label=label )\n",
    "\n",
    "pylab.legend()\n",
    "pylab.title(\"Title of Plot\")\n",
    "pylab.xlabel(\"X Axis Label\")\n",
    "pylab.ylabel(\"Y Axis Label\")"
   ]
  },
  {
   "cell_type": "code",
   "execution_count": null,
   "metadata": {
    "collapsed": true
   },
   "outputs": [],
   "source": []
  }
 ],
 "metadata": {
  "kernelspec": {
   "display_name": "Python 2",
   "language": "python",
   "name": "python2"
  },
  "language_info": {
   "codemirror_mode": {
    "name": "ipython",
    "version": 2
   },
   "file_extension": ".py",
   "mimetype": "text/x-python",
   "name": "python",
   "nbconvert_exporter": "python",
   "pygments_lexer": "ipython2",
   "version": "2.7.6"
  }
 },
 "nbformat": 4,
 "nbformat_minor": 0
}
